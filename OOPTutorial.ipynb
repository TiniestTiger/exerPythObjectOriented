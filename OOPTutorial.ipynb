{
  "nbformat": 4,
  "nbformat_minor": 0,
  "metadata": {
    "colab": {
      "provenance": [],
      "authorship_tag": "ABX9TyMzZfHUSZyVk/xCjoGTQ4rx",
      "include_colab_link": true
    },
    "kernelspec": {
      "name": "python3",
      "display_name": "Python 3"
    },
    "language_info": {
      "name": "python"
    }
  },
  "cells": [
    {
      "cell_type": "markdown",
      "metadata": {
        "id": "view-in-github",
        "colab_type": "text"
      },
      "source": [
        "<a href=\"https://colab.research.google.com/github/TiniestTiger/exerPythObjectOriented/blob/master/OOPTutorial.ipynb\" target=\"_parent\"><img src=\"https://colab.research.google.com/assets/colab-badge.svg\" alt=\"Open In Colab\"/></a>"
      ]
    },
    {
      "cell_type": "code",
      "execution_count": 1,
      "metadata": {
        "colab": {
          "base_uri": "https://localhost:8080/"
        },
        "id": "7uPAQmXGoAeJ",
        "outputId": "388c2ace-1e0a-4a6c-f238-e330a3403ced"
      },
      "outputs": [
        {
          "output_type": "stream",
          "name": "stdout",
          "text": [
            "Corey.Schafer@company.com\n",
            "Test.User@company.com\n"
          ]
        }
      ],
      "source": [
        "# Video 1\n",
        "class Employee:\n",
        "  pass\n",
        "\n",
        "emp_1 = Employee()\n",
        "emp_2 = Employee()\n",
        "\n",
        "emp_1.first = 'Corey'\n",
        "emp_1.last = 'Schafer'\n",
        "emp_1.email = 'Corey.Schafer@company.com'\n",
        "emp_1.pay = '50000'\n",
        "emp_2.first = 'Test'\n",
        "emp_2.last = 'User'\n",
        "emp_2.email = 'Test.User@company.com'\n",
        "emp_2.pay = '60000'\n",
        "\n",
        "print(emp_1.email)\n",
        "print(emp_2.email)\n",
        "\n"
      ]
    },
    {
      "cell_type": "code",
      "source": [
        "class Employee:\n",
        "\n",
        "  def __init__(self,first,last,pay):\n",
        "    self.first = first\n",
        "    self.last = last\n",
        "    self.email = first + '.' + last + '@company.com'\n",
        "    self.pay = pay\n",
        "  def fullname(self):\n",
        "    return '{} {}'.format(self.first, self.last)\n",
        "\n",
        "emp_1 = Employee('Corey', 'Schafer', 50000)\n",
        "emp_2 = Employee('Test', 'User', 60000)\n",
        "\n",
        "print(emp_1.email)\n",
        "print(emp_2.email)\n",
        "\n",
        "print('{} {}'.format(emp_1.first, emp_1.last))\n",
        "\n",
        "print(emp_1.fullname())\n",
        "print(emp_2.fullname())"
      ],
      "metadata": {
        "colab": {
          "base_uri": "https://localhost:8080/"
        },
        "id": "E0TiRHu3pt84",
        "outputId": "2b322eb4-5fbc-484e-9acd-b2a8840563b0"
      },
      "execution_count": 6,
      "outputs": [
        {
          "output_type": "stream",
          "name": "stdout",
          "text": [
            "Corey.Schafer@company.com\n",
            "Test.User@company.com\n",
            "Corey Schafer\n",
            "Corey Schafer\n",
            "Test User\n"
          ]
        }
      ]
    },
    {
      "cell_type": "code",
      "source": [
        "#Video 2\n",
        "class Employee:\n",
        "\n",
        "    num_of_emps = 0\n",
        "    raise_amount = 1.04\n",
        "\n",
        "    def __init__(self, first, last, pay):\n",
        "        self.first = first\n",
        "        self.last = last\n",
        "        self.pay = pay\n",
        "        self.email = first + '.' + last + '@company.com'\n",
        "        Employee.num_of_emps += 1\n",
        "\n",
        "    def fullname(self):\n",
        "        return '{} {}'.format(self.first, self.last)\n",
        "\n",
        "    def apply_raise(self):\n",
        "      self.pay = int(self.pay * self.raise_amount)\n",
        "\n",
        "emp_1 = Employee('Corey', 'Schafer', 50000)\n",
        "emp_2 = Employee('Test', 'User', 60000)\n",
        "\n",
        "print(emp_1.pay)\n",
        "emp_1.apply_raise()\n",
        "print(emp_1.pay)\n",
        "\n",
        "Employee.raise_amount = 1.05\n",
        "\n",
        "print(Employee.raise_amount)\n",
        "print(emp_1.raise_amount)\n",
        "print(emp_2.raise_amount)\n",
        "\n",
        "print(emp_1.__dict__)\n",
        "print(Employee.__dict__)\n",
        "print(Employee.num_of_emps)"
      ],
      "metadata": {
        "colab": {
          "base_uri": "https://localhost:8080/"
        },
        "id": "dhwY4fFCsrTD",
        "outputId": "22924036-e5a6-4484-b872-9823a4f2ae4a"
      },
      "execution_count": 18,
      "outputs": [
        {
          "output_type": "stream",
          "name": "stdout",
          "text": [
            "50000\n",
            "52000\n",
            "1.05\n",
            "1.05\n",
            "1.05\n",
            "{'first': 'Corey', 'last': 'Schafer', 'pay': 52000, 'email': 'Corey.Schafer@company.com'}\n",
            "{'__module__': '__main__', 'num_of_emps': 2, 'raise_amount': 1.05, '__init__': <function Employee.__init__ at 0x7a15218244c0>, 'fullname': <function Employee.fullname at 0x7a1521827130>, 'apply_raise': <function Employee.apply_raise at 0x7a1521824310>, '__dict__': <attribute '__dict__' of 'Employee' objects>, '__weakref__': <attribute '__weakref__' of 'Employee' objects>, '__doc__': None}\n",
            "2\n"
          ]
        }
      ]
    },
    {
      "cell_type": "code",
      "source": [
        "#Video 3\n"
      ],
      "metadata": {
        "id": "tYnUXS16x5K8"
      },
      "execution_count": null,
      "outputs": []
    },
    {
      "cell_type": "code",
      "execution_count": 34,
      "metadata": {
        "deletable": false,
        "nbgrader": {
          "cell_type": "code",
          "checksum": "b0618de27469703caa2dc04201ce7e12",
          "grade": true,
          "grade_id": "cell-176986e2737f1b08",
          "locked": false,
          "points": 3,
          "schema_version": 3,
          "solution": true,
          "task": false
        },
        "id": "896abe68",
        "colab": {
          "base_uri": "https://localhost:8080/"
        },
        "outputId": "37c92b8c-a575-4ee1-8ff5-c30d3fbee138"
      },
      "outputs": [
        {
          "output_type": "stream",
          "name": "stdout",
          "text": [
            "1.05\n",
            "1.05\n",
            "1.05\n",
            "John.Doe@company.com\n",
            "70000\n",
            "False\n"
          ]
        }
      ],
      "source": [
        "class Employee:\n",
        "\n",
        "    num_of_emps = 0\n",
        "    raise_amount = 1.04\n",
        "\n",
        "    def __init__(self, first, last, pay):\n",
        "        self.first = first\n",
        "        self.last = last\n",
        "        self.pay = pay\n",
        "        self.email = first + '.' + last + '@company.com'\n",
        "\n",
        "        Employee.num_of_emps += 1\n",
        "\n",
        "    def fullname(self):\n",
        "        return '{} {}'.format(self.first, self.last)\n",
        "\n",
        "    def apply_raise(self):\n",
        "        self.pay = int(self.pay * self.raise_amount)\n",
        "\n",
        "    @classmethod\n",
        "    def set_raise_amt(cls, amount):\n",
        "      cls.raise_amount = amount\n",
        "\n",
        "    @classmethod\n",
        "    def from_string(cls, emp_str):\n",
        "      first, last, pay = emp_str.split('-')\n",
        "      return cls(first, last, pay)\n",
        "\n",
        "    @staticmethod\n",
        "    def is_workday(day):\n",
        "      if day.weekday() == 5 or day.weekday() == 6:\n",
        "        return False\n",
        "      return True\n",
        "\n",
        "emp_1 = Employee('Corey', 'Schafer', 50000)\n",
        "emp_2 = Employee('Test', 'User', 60000)\n",
        "\n",
        "Employee.set_raise_amt(1.05)\n",
        "\n",
        "print(Employee.raise_amount)\n",
        "print(emp_1.raise_amount)\n",
        "print(emp_2.raise_amount)\n",
        "\n",
        "emp_str_1 = 'John-Doe-70000'\n",
        "emp_str_2 = 'Steve-Smith-30000'\n",
        "emp_str_3 = 'Jane-Doe-90000'\n",
        "\n",
        "new_emp_1 = Employee.from_string(emp_str_1)\n",
        "print(new_emp_1.email)\n",
        "print(new_emp_1.pay)\n",
        "\n",
        "import datetime\n",
        "my_date = datetime.date(2016, 7, 10)\n",
        "print(Employee.is_workday(my_date))"
      ]
    },
    {
      "cell_type": "code",
      "source": [
        "#Video 4\n",
        "class Employee:\n",
        "\n",
        "    raise_amount = 1.04\n",
        "\n",
        "    def __init__(self, first, last, pay):\n",
        "        self.first = first\n",
        "        self.last = last\n",
        "        self.pay = pay\n",
        "        self.email = first + '.' + last + '@email.com'\n",
        "\n",
        "    def fullname(self):\n",
        "        return '{} {}'.format(self.first, self.last)\n",
        "\n",
        "    def apply_raise(self):\n",
        "        self.pay = int(self.pay * self.raise_amount)\n",
        "\n",
        "\n",
        "class Developer(Employee):\n",
        "  raise_amt = 1.10\n",
        "\n",
        "  def __init__(self, first, last, pay, prog_lang):\n",
        "    super().__init__(first, last, pay)\n",
        "    self.prog_lang = prog_lang\n",
        "\n",
        "class Manager(Employee):\n",
        "  def __init__(self, first, last, pay, employees=None):\n",
        "    super().__init__(first, last, pay)\n",
        "    if employees is None:\n",
        "      self.employees = []\n",
        "    else:\n",
        "      self.employees = employees\n",
        "\n",
        "  def add_emp(self, emp):\n",
        "    if emp not in self.employees:\n",
        "      self.employees.append(emp)\n",
        "\n",
        "  def remove_emp(self, emp):\n",
        "    if emp in self.employees:\n",
        "      self.employees.remove(emp)\n",
        "\n",
        "  def print_emps(self):\n",
        "    for emp in self.employees:\n",
        "      print('---->', emp.fullname())\n",
        "\n",
        "\n",
        "#dev_1 = Employee('Corey', 'Schafer', 50000)\n",
        "#dev_2 = Employee('Test', 'User', 60000)\n",
        "\n",
        "dev_1 = Developer('Corey', 'Schafer', 50000, 'Python')\n",
        "dev_2 = Developer('Test', 'User', 60000, 'Java')\n",
        "\n",
        "#print(help(Developer))\n",
        "\n",
        "print(dev_1.email)\n",
        "print(dev_1.prog_lang)\n",
        "print(dev_1.pay)\n",
        "dev_1.apply_raise()\n",
        "print(dev_1.pay)\n",
        "\n",
        "mgr_1 = Manager('Sue', 'Smith', 90000, [dev_1])\n",
        "print(mgr_1.email)\n",
        "mgr_1.add_emp(dev_2)\n",
        "mgr_1.remove_emp(dev_1)\n",
        "mgr_1.print_emps()\n",
        "\n",
        "print(isinstance(mgr_1, Manager))\n",
        "print(issubclass(Manager, Developer))"
      ],
      "metadata": {
        "colab": {
          "base_uri": "https://localhost:8080/"
        },
        "id": "9P9T-h3g4o9g",
        "outputId": "492d8f80-f5b2-4baf-d969-032c8b771115"
      },
      "execution_count": 46,
      "outputs": [
        {
          "output_type": "stream",
          "name": "stdout",
          "text": [
            "Corey.Schafer@email.com\n",
            "Python\n",
            "50000\n",
            "52000\n",
            "Sue.Smith@email.com\n",
            "----> Test User\n",
            "True\n",
            "False\n"
          ]
        }
      ]
    },
    {
      "cell_type": "code",
      "source": [
        "#Video 5\n",
        "class Employee:\n",
        "    raise_amount = 1.04\n",
        "\n",
        "    def __init__(self, first, last, pay):\n",
        "        self.first = first\n",
        "        self.last = last\n",
        "        self.pay = pay\n",
        "        self.email = first + '.' + last + '@email.com'\n",
        "\n",
        "        #Employee.num_of_emps += 1\n",
        "\n",
        "    def fullname(self):\n",
        "        return '{} {}'.format(self.first, self.last)\n",
        "\n",
        "    def apply_raise(self):\n",
        "        self.pay = int(self.pay * self.raise_amount)\n",
        "\n",
        "    def __repr__(self):\n",
        "      return \"Employee('{}', '{}', '{}')\".format(self.first, self.last, self.pay)\n",
        "\n",
        "    def __str__(self):\n",
        "      return '{} - {}'.format(self.fullname(), self.email)\n",
        "\n",
        "    def __add__(self, other):\n",
        "      return self.pay + other.pay\n",
        "\n",
        "    def __len__(self):\n",
        "      return len(self.fullname())\n",
        "\n",
        "\n",
        "emp_1 = Employee('Corey', 'Schafer', 50000)\n",
        "emp_2 = Employee('Test', 'User', 60000)\n",
        "\n",
        "print(emp_1)\n",
        "\n",
        "print(emp_1.__repr__())\n",
        "print(emp_1.__str__())\n",
        "\n",
        "print(emp_1 + emp_2)\n",
        "print(len(emp_1))\n"
      ],
      "metadata": {
        "colab": {
          "base_uri": "https://localhost:8080/"
        },
        "id": "NlAguUCJbkVb",
        "outputId": "0570fff6-081e-4c3c-aeb6-f5f41a743c20"
      },
      "execution_count": 61,
      "outputs": [
        {
          "output_type": "stream",
          "name": "stdout",
          "text": [
            "Corey Schafer - Corey.Schafer@email.com\n",
            "Employee('Corey', 'Schafer', '50000')\n",
            "Corey Schafer - Corey.Schafer@email.com\n",
            "110000\n",
            "13\n"
          ]
        }
      ]
    },
    {
      "cell_type": "code",
      "source": [
        "#Video 6\n",
        "class Employee:\n",
        "\n",
        "    def __init__(self, first, last):\n",
        "        self.first = first\n",
        "        self.last = last\n",
        "\n",
        "    @property\n",
        "    def fullname(self):\n",
        "        return '{} {}'.format(self.first, self.last)\n",
        "\n",
        "    @property\n",
        "    def email(self):\n",
        "      return '{}.{}@email.com'.format(self.first, self.last)\n",
        "\n",
        "    @fullname.setter\n",
        "    def fullname(self, name):\n",
        "      first, last = name.split(' ')\n",
        "      self.first = first\n",
        "      self.last = last\n",
        "\n",
        "\n",
        "    @fullname.deleter\n",
        "    def fullname(self):\n",
        "      print('Delete Name!')\n",
        "      self.first = None\n",
        "      self.last = None\n",
        "\n",
        "emp_1 = Employee('John', 'Smith')\n",
        "\n",
        "emp_1.fullname = 'Corey Schafer'\n",
        "\n",
        "print(emp_1.first)\n",
        "print(emp_1.email)\n",
        "print(emp_1.fullname)\n",
        "\n",
        "del emp_1.fullname"
      ],
      "metadata": {
        "colab": {
          "base_uri": "https://localhost:8080/"
        },
        "id": "DLdXTIHogQgG",
        "outputId": "75395ca7-7272-4304-a350-11658291c942"
      },
      "execution_count": 69,
      "outputs": [
        {
          "output_type": "stream",
          "name": "stdout",
          "text": [
            "Corey\n",
            "Corey.Schafer@email.com\n",
            "Corey Schafer\n",
            "Delete Name!\n"
          ]
        }
      ]
    }
  ]
}